{
  "nbformat": 4,
  "nbformat_minor": 0,
  "metadata": {
    "colab": {
      "name": "ONNX File Generator: Ravit.ipynb",
      "version": "0.3.2",
      "provenance": [],
      "collapsed_sections": [],
      "toc_visible": true
    },
    "kernelspec": {
      "name": "python3",
      "display_name": "Python 3"
    }
  },
  "cells": [
    {
      "cell_type": "markdown",
      "metadata": {
        "id": "zIZAhQA_d_H1",
        "colab_type": "text"
      },
      "source": [
        "#Pytorch operator to ONNX\n",
        "- Compatible with Python 3\n",
        "##Useful resources\n",
        "- https://pytorch.org/docs/stable/nn.html\n",
        "- https://pytorch.org/docs/stable/torch.html\n",
        "- https://github.com/onnx/onnx/blob/master/docs/Operators.md#Expand"
      ]
    },
    {
      "cell_type": "code",
      "metadata": {
        "id": "JFESYWSjbBXR",
        "colab_type": "code",
        "colab": {}
      },
      "source": [
        "!pip install onnx\n",
        "from onnx_generator import generate_py_file"
      ],
      "execution_count": 0,
      "outputs": []
    },
    {
      "cell_type": "code",
      "metadata": {
        "id": "hx75sS0dqhaN",
        "colab_type": "code",
        "colab": {}
      },
      "source": [
        "operators = {}\n",
        "operators['acos'] = {'output_string':'torch.acos(x)', 'test_input_string':'torch.randn(1, 5)'}\n",
        "operators['add'] = {'output_string':'torch.add(x, self.to_add)', 'test_input_string':'torch.Tensor([3,3,3])', 'init':['self.to_add = torch.Tensor([2,2,2])']}\n",
        "operators['sub'] = {'output_string':'torch.sub(x, self.to_sub)', 'test_input_string':'torch.Tensor([3,3,3])', 'init':['self.to_sub = torch.Tensor([2,2,2])']}\n",
        "operators['mul'] = {'output_string':'torch.mul(x, self.to_mul)', 'test_input_string':'torch.Tensor([3,3,3])', 'init':['self.to_mul = torch.Tensor([2,2,2])']}\n",
        "operators['div'] = {'output_string':'torch.div(x, self.to_div)', 'test_input_string':'torch.Tensor([3,3,3])', 'init':['self.to_div = torch.Tensor([2,2,2])']}\n",
        "operators['cat'] = {'output_string':'torch.cat([x, self.to_cat])', 'test_input_string':'torch.Tensor([[1,2],[3,4]])', 'init':['self.to_cat = torch.Tensor([[5,6],[7,8]])']}\n",
        "operators['mm'] = {'output_string':'torch.mm(x, self.to_mm)', 'test_input_string':'torch.randn(1,3)', 'init':['self.to_mm = torch.randn(3,2)']}\n",
        "operators['addmm'] = {'output_string':'torch.addmm(x, self.mat1, self.mat2)', 'test_input_string':'torch.randn(3,3)', 'init':['self.mat1 = torch.randn(3,2)', 'self.mat2 = torch.randn(2,3)']}\n",
        "operators['neg'] = {'output_string':'torch.neg(x)', 'test_input_string':'torch.Tensor([1,2,3])'}\n",
        "operators['sqrt'] = {'output_string':'torch.sqrt(x)', 'test_input_string':'torch.Tensor([1,2,3])'}\n",
        "operators['tanh'] = {'output_string':'torch.tanh(x)', 'test_input_string':'torch.Tensor([1,2,3])'}\n",
        "operators['sigmoid'] = {'output_string':'torch.sigmoid(x)', 'test_input_string':'torch.Tensor([1,2,3])'}\n",
        "operators['mean'] = {'output_string':'torch.mean(x)', 'test_input_string':'torch.randn(1, 5)'}\n",
        "operators['sum'] = {'output_string':'torch.sum(x)', 'test_input_string':'torch.randn(1,5)'}\n",
        "operators['prod'] = {'output_string':'torch.prod(x)', 'test_input_string':'torch.randn(1, 5)'}\n",
        "operators['t'] = {'output_string':'torch.t(x)', 'test_input_string':'torch.randn(2,3)'}\n",
        "#doublecheck on expand\n",
        "#operators['expand'] = {'output_string':'torch.add(x, self.to_add)', 'test_input_string':'torch.randn(2,3)', 'init':['self.to_add = torch.randn(1,6)']}\n",
        "operators['transpose'] = {'output_string':'torch.transpose(x, 1, 2)', 'test_input_string':'torch.randn(1,2,3)'}\n",
        "operators['view'] = {'output_string':'x.view(x.size(0), -1)', 'test_input_string':'torch.randn(2,3)'}\n",
        "operators['split'] = {'output_string':'torch.split(x, 5)', 'test_input_string':'torch.randn(10,3)'}\n",
        "operators['squeeze'] = {'output_string':'torch.squeeze(x)', 'test_input_string':'torch.randn(1,5)'}\n",
        "operators['PReLU'] = {'output_string':'nn.PReLU()', 'test_input_string':'torch.randn(2)', 'is_module':True}\n",
        "#for some reason, threshold seems to be only supported for threshold=0 and value=0\n",
        "operators['threshold'] = {'output_string':'nn.Threshold(0, 0)', 'test_input_string':'torch.randn(2)', 'is_module':True}\n",
        "operators['leaky_relu'] = {'output_string':'nn.LeakyReLU()', 'test_input_string':'torch.randn(2)', 'is_module':True}\n",
        "operators['glu'] = {'output_string':'nn.functional.glu(x)', 'test_input_string':'torch.randn(10)'}\n",
        "operators['softmax'] = {'output_string':'nn.Softmax()', 'test_input_string':'torch.randn(6)', 'is_module':True}\n",
        "operators['avg_pool2D'] = {'output_string':'nn.functional.avg_pool2d(x, self.kernel_size)', 'test_input_string':'torch.randn(32,3,28,28)', 'init':['self.kernel_size = (5,5)']}\n",
        "operators['log_softmax'] = {'output_string':'nn.functional.log_softmax(x)', 'test_input_string':'torch.randn(10)'}\n",
        "#cannot export unfold\n",
        "#operators['unfold'] = {'output_string':'nn.functional.unfold(x, self.kernel_size)', 'test_input_string':'torch.randn(32,3,28,28)', 'init':['self.kernel_size = (5,5)']}\n",
        "operators['elu'] = {'output_string':'nn.ELU()', 'test_input_string':'torch.randn(10)', 'is_module':True}\n",
        "operators['concat'] = {'output_string':'torch.cat((x, self.to_cat))', 'test_input_string':'torch.randn(5,10)', 'init':['self.to_cat = torch.randn(2,10)']}\n",
        "operators['abs'] = {'output_string':'torch.abs(x)', 'test_input_string':'torch.Tensor([-1,-2,2])'}\n",
        "operators['index_select'] = {'output_string':'torch.index_select(x, 0, self.indices)', 'test_input_string':'torch.randn(5,5)', 'init':['self.indices = torch.tensor([0,2,3])']}\n",
        "operators['pow'] = {'output_string':'torch.pow(x, self.exp)', 'test_input_string':'torch.rand(5)', 'init':['self.exp = 2']}\n",
        "operators['clamp'] = {'output_string':'torch.clamp(x, self.min, self.max)', 'test_input_string':'torch.randn(5)', 'init':['self.min = 0.25', 'self.max = 0.75']}\n",
        "\n",
        "operators['max'] = {'output_string': 'torch.max(x)', 'test_input_string': 'torch.full([3, 3], 4)'}\n",
        "operators['min'] = {'output_string': 'torch.min(x)', 'test_input_string': 'torch.full([3, 3], 4)'}\n",
        "operators['exp'] = {'output_string': 'torch.exp(x)', 'test_input_string': 'torch.full([3, 3], 4)'}\n",
        "operators['sin'] = {'output_string': 'torch.sin(x)', 'test_input_string': 'torch.full([3, 3], 4)'}\n",
        "operators['cos'] = {'output_string': 'torch.cos(x)', 'test_input_string': 'torch.full([3, 3], 4)'}\n",
        "operators['tan'] = {'output_string': 'torch.tan(x)', 'test_input_string': 'torch.full([3, 3], 4)'}\n",
        "operators['asin'] = {'output_string': 'torch.asin(x)', 'test_input_string': 'torch.full([3, 3], 4)'}\n",
        "operators['acos'] = {'output_string': 'torch.acos(x)', 'test_input_string': 'torch.full([3, 3], 4)'}\n",
        "operators['atan'] = {'output_string': 'torch.atan(x)', 'test_input_string': 'torch.full([3, 3], 4)'}\n",
        "operators['permute'] = {'output_string': 'x.permute(1, 0)', 'test_input_string': 'torch.Tensor([[1, 2, 3], [4, 5, 6]])'}\n",
        "\n",
        "# simple op, comparison (two-tensor)\n",
        "operators['eq'] = {'output_string': 'torch.eq(x, self.to_compare)', 'test_input_string': 'torch.full([3, 3], 4)', 'init': ['self.to_compare = torch.full([3, 3], 2)']}\n",
        "operators['gt'] = {'output_string': 'torch.gt(x, self.to_compare)', 'test_input_string': 'torch.full([3, 3], 4)', 'init': ['self.to_compare = torch.full([3, 3], 2)']}\n",
        "operators['lt'] = {'output_string': 'torch.lt(x, self.to_compare)', 'test_input_string': 'torch.full([3, 3], 4)', 'init': ['self.to_compare = torch.full([3, 3], 2)']}\n",
        "operators['ge'] = {'output_string': 'torch.ge(x, self.to_compare)', 'test_input_string': 'torch.full([3, 3], 4)', 'init': ['self.to_compare = torch.full([3, 3], 2)']}\n",
        "operators['le'] = {'output_string': 'torch.le(x, self.to_compare)', 'test_input_string': 'torch.full([3, 3], 4)', 'init': ['self.to_compare = torch.full([3, 3], 2)']}\n",
        "\n",
        "# torch.nn.module ops\n",
        "operators['Conv'] = {'output_string': 'torch.nn.Conv2d(4, 5, 3)', 'test_input_string': 'torch.full([1, 4, 5, 6], 4)', 'is_module': True}\n",
        "operators['BatchNorm'] = {'output_string': 'torch.nn.BatchNorm1d(6)', 'test_input_string': 'torch.full([3, 6], 4)', 'is_module': True}\n",
        "operators['MaxPool1d'] = {'output_string': 'torch.nn.MaxPool1d(3, stride=1)', 'test_input_string': 'torch.full([1, 4, 5], 4)', 'is_module': True}\n",
        "operators['MaxPool2d'] = {'output_string': 'torch.nn.MaxPool2d(3, stride=1)', 'test_input_string': 'torch.full([1, 4, 5, 5], 4)', 'is_module': True}\n",
        "operators['MaxPool3d'] = {'output_string': 'torch.nn.MaxPool3d(3, stride=1)', 'test_input_string': 'torch.full([1, 4, 5, 5, 5], 4)', 'is_module': True}\n",
        "operators['Embedding'] = {'output_string': 'torch.nn.Embedding(10, 3)', 'test_input_string': 'torch.LongTensor([[1,2,4,5],[4,3,2,9]])', 'is_module': True}\n",
        "operators['RNN'] = {'output_string': 'torch.nn.RNN(4, 6, 3)', 'test_input_string': 'torch.randn(10, 1, 4)', 'is_module': True}\n",
        "operators['ConstantPad1d'] = {'output_string': 'torch.nn.ConstantPad1d(2, 4.5)', 'test_input_string': 'torch.full([1, 3, 4], 3)', 'is_module': True}\n",
        "operators['ConstantPad2d'] = {'output_string': 'torch.nn.ConstantPad2d(2, 4.5)', 'test_input_string': 'torch.full([1, 3, 4, 4], 3)', 'is_module': True}\n",
        "operators['ConstantPad3d'] = {'output_string': 'torch.nn.ConstantPad3d(2, 4.5)', 'test_input_string': 'torch.full([1, 3, 4, 4, 4], 3)', 'is_module': True}\n",
        "operators['Dropout'] = {'output_string': 'torch.nn.Dropout(p=0.3)', 'test_input_string': 'torch.full([4, 4], 3)', 'is_module': True}\n"
      ],
      "execution_count": 0,
      "outputs": []
    },
    {
      "cell_type": "code",
      "metadata": {
        "id": "LtADEyY9lpUT",
        "colab_type": "code",
        "colab": {}
      },
      "source": [
        "for operator in operators.keys():\n",
        "  !mkdir $operator\n",
        "  \n",
        "  output_string = operators[operator]['output_string']\n",
        "  test_input_string = operators[operator]['test_input_string']\n",
        "  init = []\n",
        "  if 'init' in operators[operator]:\n",
        "    init = operators[operator]['init']\n",
        "  \n",
        "  if 'is_module' in operators[operator]:\n",
        "  \tis_module = operators[operator]['is_module']\n",
        "  \tfile = generate_py_file(operator, output_string, test_input_string, init=init, is_module=is_module)\n",
        "  else:\n",
        "    file = generate_py_file(operator, output_string, test_input_string, init=init)\n",
        "  \n",
        "  !python $file"
      ],
      "execution_count": 0,
      "outputs": []
    }
  ]
}